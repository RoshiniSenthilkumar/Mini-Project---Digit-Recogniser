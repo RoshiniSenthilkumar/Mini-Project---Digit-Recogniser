{
  "nbformat": 4,
  "nbformat_minor": 0,
  "metadata": {
    "colab": {
      "name": "mini project.ipynb",
      "provenance": [],
      "authorship_tag": "ABX9TyM4RsV+yG8X5OgU9VO89Old",
      "include_colab_link": true
    },
    "kernelspec": {
      "name": "python3",
      "display_name": "Python 3"
    }
  },
  "cells": [
    {
      "cell_type": "markdown",
      "metadata": {
        "id": "view-in-github",
        "colab_type": "text"
      },
      "source": [
        "<a href=\"https://colab.research.google.com/github/RoshiniSenthilkumar/Mini-Project---Digit-Recogniser/blob/master/mini_project.ipynb\" target=\"_parent\"><img src=\"https://colab.research.google.com/assets/colab-badge.svg\" alt=\"Open In Colab\"/></a>"
      ]
    },
    {
      "cell_type": "code",
      "metadata": {
        "id": "hs1BYyTQRrCh",
        "colab_type": "code",
        "colab": {}
      },
      "source": [
        "import cv2\n",
        "import tensorflow as tf\n",
        "import numpy as np\n",
        "import matplotlib.pyplot as plt\n",
        "mnist = tf.keras.datasets.mnist\n",
        "(x_train,y_train), (x_test,y_test) = mnist.load_data()"
      ],
      "execution_count": 45,
      "outputs": []
    },
    {
      "cell_type": "code",
      "metadata": {
        "id": "GzvBN3fgSd7t",
        "colab_type": "code",
        "colab": {
          "base_uri": "https://localhost:8080/",
          "height": 34
        },
        "outputId": "ec6a1ab0-b1c3-41d1-ff2b-96e16e84a8c3"
      },
      "source": [
        "x_train , x_test = x_train / 255.0 , x_test / 255.0\n",
        "x_train = tf.keras.utils.normalize(x_train, axis=-1)\n",
        "x_test = tf.keras.utils.normalize(x_test,axis=-1)\n",
        "print(y_train)"
      ],
      "execution_count": 46,
      "outputs": [
        {
          "output_type": "stream",
          "text": [
            "[5 0 4 ... 5 6 8]\n"
          ],
          "name": "stdout"
        }
      ]
    },
    {
      "cell_type": "code",
      "metadata": {
        "id": "Fqzyk99cSinf",
        "colab_type": "code",
        "colab": {}
      },
      "source": [
        "model = tf.keras.models.Sequential()\n",
        "model.add(tf.keras.layers.Flatten(input_shape=(28,28)))\n",
        "model.add(tf.keras.layers.Dense(units=512 , activation='relu'))\n",
        "model.add(tf.keras.layers.Dense(units=512 , activation='relu'))\n",
        "# model.add(tf.keras.layers.Dropout(0.2))\n",
        "model.add(tf.keras.layers.Dense(units=10 , activation='softmax'))\n",
        "model.compile(optimizer='adam' , loss =tf.keras.losses.SparseCategoricalCrossentropy(from_logits=True), metrics=['sparse_categorical_accuracy'])"
      ],
      "execution_count": 47,
      "outputs": []
    },
    {
      "cell_type": "code",
      "metadata": {
        "id": "Xcl__3AQSsjC",
        "colab_type": "code",
        "colab": {
          "base_uri": "https://localhost:8080/",
          "height": 54
        },
        "outputId": "3cc53a8e-3391-447c-8895-d4c5b79e24c0"
      },
      "source": [
        "mc = tf.keras.callbacks.ModelCheckpoint('model_digits{epoch:d}.h5', \n",
        "                                     save_weights_only=False, period=10)"
      ],
      "execution_count": 48,
      "outputs": [
        {
          "output_type": "stream",
          "text": [
            "WARNING:tensorflow:`period` argument is deprecated. Please use `save_freq` to specify the frequency in number of batches seen.\n"
          ],
          "name": "stdout"
        }
      ]
    },
    {
      "cell_type": "code",
      "metadata": {
        "id": "26J8dr1vS68D",
        "colab_type": "code",
        "colab": {
          "base_uri": "https://localhost:8080/",
          "height": 357
        },
        "outputId": "1e61bf19-8977-459d-c041-c2ce9605463e"
      },
      "source": [
        "history = model.fit(x_train,y_train,epochs=10, callbacks=[mc])"
      ],
      "execution_count": 49,
      "outputs": [
        {
          "output_type": "stream",
          "text": [
            "Epoch 1/10\n",
            "1875/1875 [==============================] - 12s 6ms/step - loss: 1.5535 - sparse_categorical_accuracy: 0.9114\n",
            "Epoch 2/10\n",
            "1875/1875 [==============================] - 12s 6ms/step - loss: 1.5081 - sparse_categorical_accuracy: 0.9534\n",
            "Epoch 3/10\n",
            "1875/1875 [==============================] - 12s 6ms/step - loss: 1.5003 - sparse_categorical_accuracy: 0.9610\n",
            "Epoch 4/10\n",
            "1875/1875 [==============================] - 12s 6ms/step - loss: 1.4951 - sparse_categorical_accuracy: 0.9661\n",
            "Epoch 5/10\n",
            "1875/1875 [==============================] - 12s 6ms/step - loss: 1.4930 - sparse_categorical_accuracy: 0.9680\n",
            "Epoch 6/10\n",
            "1875/1875 [==============================] - 12s 6ms/step - loss: 1.4905 - sparse_categorical_accuracy: 0.9707\n",
            "Epoch 7/10\n",
            "1875/1875 [==============================] - 11s 6ms/step - loss: 1.4889 - sparse_categorical_accuracy: 0.9723\n",
            "Epoch 8/10\n",
            "1875/1875 [==============================] - 11s 6ms/step - loss: 1.4901 - sparse_categorical_accuracy: 0.9710\n",
            "Epoch 9/10\n",
            "1875/1875 [==============================] - 11s 6ms/step - loss: 1.4881 - sparse_categorical_accuracy: 0.9730\n",
            "Epoch 10/10\n",
            "1875/1875 [==============================] - 11s 6ms/step - loss: 1.4877 - sparse_categorical_accuracy: 0.9733\n"
          ],
          "name": "stdout"
        }
      ]
    },
    {
      "cell_type": "code",
      "metadata": {
        "id": "CRcGt-ccTBc9",
        "colab_type": "code",
        "colab": {
          "base_uri": "https://localhost:8080/",
          "height": 51
        },
        "outputId": "97e39a2f-3ee2-404a-fd41-3740a84443c1"
      },
      "source": [
        "#evaluate saved model vs original model\n",
        "m_new=tf.keras.models.load_model('model_digits10.h5')\n",
        "# saved model\n",
        "m_new.evaluate(x_test,y_test)"
      ],
      "execution_count": 50,
      "outputs": [
        {
          "output_type": "stream",
          "text": [
            "313/313 [==============================] - 1s 2ms/step - loss: 1.4916 - sparse_categorical_accuracy: 0.9696\n"
          ],
          "name": "stdout"
        },
        {
          "output_type": "execute_result",
          "data": {
            "text/plain": [
              "[1.4915637969970703, 0.9696000218391418]"
            ]
          },
          "metadata": {
            "tags": []
          },
          "execution_count": 50
        }
      ]
    },
    {
      "cell_type": "code",
      "metadata": {
        "id": "25ZMVopRTKDt",
        "colab_type": "code",
        "colab": {
          "base_uri": "https://localhost:8080/",
          "height": 51
        },
        "outputId": "e33881dd-3ce4-4ca5-f462-990f47141b2b"
      },
      "source": [
        "#current model\n",
        "model.evaluate(x_test,y_test)"
      ],
      "execution_count": 51,
      "outputs": [
        {
          "output_type": "stream",
          "text": [
            "313/313 [==============================] - 1s 2ms/step - loss: 1.4916 - sparse_categorical_accuracy: 0.9696\n"
          ],
          "name": "stdout"
        },
        {
          "output_type": "execute_result",
          "data": {
            "text/plain": [
              "[1.4915637969970703, 0.9696000218391418]"
            ]
          },
          "metadata": {
            "tags": []
          },
          "execution_count": 51
        }
      ]
    },
    {
      "cell_type": "code",
      "metadata": {
        "id": "bENZQ1XNTdfE",
        "colab_type": "code",
        "colab": {
          "base_uri": "https://localhost:8080/",
          "height": 34
        },
        "outputId": "65545ea3-0bc3-4970-af5b-3d04e07eddca"
      },
      "source": [
        "y_pred = model.predict_classes(x_test)\n",
        "y_pred"
      ],
      "execution_count": 52,
      "outputs": [
        {
          "output_type": "execute_result",
          "data": {
            "text/plain": [
              "array([7, 2, 1, ..., 4, 5, 6])"
            ]
          },
          "metadata": {
            "tags": []
          },
          "execution_count": 52
        }
      ]
    },
    {
      "cell_type": "code",
      "metadata": {
        "id": "bjEtcTIaTpcX",
        "colab_type": "code",
        "colab": {
          "base_uri": "https://localhost:8080/",
          "height": 34
        },
        "outputId": "65ebe6e7-e6bf-4255-e225-c4c62130affd"
      },
      "source": [
        "y_pred[0]"
      ],
      "execution_count": 53,
      "outputs": [
        {
          "output_type": "execute_result",
          "data": {
            "text/plain": [
              "7"
            ]
          },
          "metadata": {
            "tags": []
          },
          "execution_count": 53
        }
      ]
    },
    {
      "cell_type": "code",
      "metadata": {
        "id": "7NtvmKtnTzOb",
        "colab_type": "code",
        "colab": {
          "base_uri": "https://localhost:8080/",
          "height": 34
        },
        "outputId": "206bb776-0bda-4c6b-a75e-acc04bbf829b"
      },
      "source": [
        "np.argmax(y_pred[0])"
      ],
      "execution_count": 54,
      "outputs": [
        {
          "output_type": "execute_result",
          "data": {
            "text/plain": [
              "0"
            ]
          },
          "metadata": {
            "tags": []
          },
          "execution_count": 54
        }
      ]
    },
    {
      "cell_type": "code",
      "metadata": {
        "id": "KBCgdINGT3MA",
        "colab_type": "code",
        "colab": {
          "base_uri": "https://localhost:8080/",
          "height": 34
        },
        "outputId": "6736c874-8b57-4376-dc6d-8b3ebceefb94"
      },
      "source": [
        "np.argmax(model.predict(x_test), axis=-1)"
      ],
      "execution_count": 55,
      "outputs": [
        {
          "output_type": "execute_result",
          "data": {
            "text/plain": [
              "array([7, 2, 1, ..., 4, 5, 6])"
            ]
          },
          "metadata": {
            "tags": []
          },
          "execution_count": 55
        }
      ]
    },
    {
      "cell_type": "code",
      "metadata": {
        "id": "eep5DLtaT7MF",
        "colab_type": "code",
        "colab": {}
      },
      "source": [
        "# Evaluation\n",
        "from sklearn.metrics import accuracy_score,confusion_matrix"
      ],
      "execution_count": 56,
      "outputs": []
    },
    {
      "cell_type": "code",
      "metadata": {
        "id": "PgUH2OGaUCzG",
        "colab_type": "code",
        "colab": {
          "base_uri": "https://localhost:8080/",
          "height": 34
        },
        "outputId": "f7385cbc-296d-47e8-8606-ad9a624b5321"
      },
      "source": [
        "accuracy_score(y_pred,y_test)"
      ],
      "execution_count": 57,
      "outputs": [
        {
          "output_type": "execute_result",
          "data": {
            "text/plain": [
              "0.9696"
            ]
          },
          "metadata": {
            "tags": []
          },
          "execution_count": 57
        }
      ]
    },
    {
      "cell_type": "code",
      "metadata": {
        "id": "nLfQ4bwtUGQO",
        "colab_type": "code",
        "colab": {
          "base_uri": "https://localhost:8080/",
          "height": 187
        },
        "outputId": "cf7f42ee-1555-4b2f-cbbd-b3b4bb8defdf"
      },
      "source": [
        "confusion_matrix(y_pred,y_test)"
      ],
      "execution_count": 58,
      "outputs": [
        {
          "output_type": "execute_result",
          "data": {
            "text/plain": [
              "array([[ 966,    0,    1,    0,    2,    4,    3,    0,    5,    3],\n",
              "       [   0, 1115,    0,    0,    0,    0,    4,    5,    1,    5],\n",
              "       [   1,    4, 1015,    5,    6,    0,    1,   11,    8,    0],\n",
              "       [   2,    5,    5,  995,    1,   21,    1,   13,   10,   14],\n",
              "       [   0,    0,    1,    0,  953,    3,    2,    7,    2,   21],\n",
              "       [   1,    1,    0,    2,    0,  845,    3,    0,    7,    2],\n",
              "       [   6,    2,    2,    0,    7,    5,  939,    0,    1,    1],\n",
              "       [   2,    3,    6,    2,    0,    0,    0,  975,    1,    5],\n",
              "       [   1,    5,    2,    5,    1,    9,    5,    2,  936,    1],\n",
              "       [   1,    0,    0,    1,   12,    5,    0,   15,    3,  957]])"
            ]
          },
          "metadata": {
            "tags": []
          },
          "execution_count": 58
        }
      ]
    },
    {
      "cell_type": "code",
      "metadata": {
        "id": "hzlu11F4UKtn",
        "colab_type": "code",
        "colab": {
          "base_uri": "https://localhost:8080/",
          "height": 282
        },
        "outputId": "ff11a550-eda5-47f6-e323-d064f0309c45"
      },
      "source": [
        "plt.plot(history.history['sparse_categorical_accuracy'])"
      ],
      "execution_count": 59,
      "outputs": [
        {
          "output_type": "execute_result",
          "data": {
            "text/plain": [
              "[<matplotlib.lines.Line2D at 0x7f6cc2b4f1d0>]"
            ]
          },
          "metadata": {
            "tags": []
          },
          "execution_count": 59
        },
        {
          "output_type": "display_data",
          "data": {
            "image/png": "[encoded data removed]",
            "text/plain": [
              "<Figure size 432x288 with 1 Axes>"
            ]
          },
          "metadata": {
            "tags": [],
            "needs_background": "light"
          }
        }
      ]
    },
    {
      "cell_type": "code",
      "metadata": {
        "id": "e7RNg8I9UTEm",
        "colab_type": "code",
        "colab": {
          "base_uri": "https://localhost:8080/",
          "height": 1000
        },
        "outputId": "aed0b9db-dbac-449a-ff60-ec78eeba134e"
      },
      "source": [
        "model.get_weights()"
      ],
      "execution_count": 60,
      "outputs": [
        {
          "output_type": "execute_result",
          "data": {
            "text/plain": [
              "[array([[-1.1861250e-03, -2.8967857e-04,  5.4887347e-02, ...,\n",
              "         -6.1621998e-02,  2.1568060e-02, -3.9131489e-02],\n",
              "        [-2.6300065e-02, -3.6978543e-02, -3.4273971e-02, ...,\n",
              "         -1.8586248e-02, -1.4992662e-02, -6.6912420e-02],\n",
              "        [-8.8343583e-03,  3.0065782e-02, -1.7485026e-02, ...,\n",
              "         -3.2562125e-02, -6.2696636e-05, -6.6711962e-02],\n",
              "        ...,\n",
              "        [ 3.8351469e-02,  1.6369112e-02, -2.4631307e-02, ...,\n",
              "          4.5398533e-02, -1.4798254e-02,  4.2822897e-02],\n",
              "        [-3.9927147e-02,  4.9778379e-02,  6.5218389e-02, ...,\n",
              "         -6.7863151e-02, -5.3548142e-03,  8.2733259e-03],\n",
              "        [ 2.6685283e-02, -6.1601736e-02, -4.8845276e-02, ...,\n",
              "         -2.6599545e-02,  3.9683759e-02,  4.5750104e-02]], dtype=float32),\n",
              " array([ 0.004182  , -0.02114743, -0.06181288, -0.05774423, -0.02898738,\n",
              "         0.03596599, -0.07379579,  0.06383687, -0.01523655, -0.0288624 ,\n",
              "        -0.13401769, -0.07174738, -0.05435665,  0.06258576, -0.0610855 ,\n",
              "        -0.04304955, -0.04888895, -0.0984796 , -0.06148287,  0.06313138,\n",
              "        -0.04402299, -0.0233888 , -0.08806208, -0.01998661, -0.06813499,\n",
              "        -0.0353184 ,  0.00331897, -0.01914191, -0.02345161, -0.05048799,\n",
              "        -0.03964097,  0.02516963, -0.06202856, -0.08456062, -0.04940769,\n",
              "        -0.06247031,  0.00205457, -0.08728795, -0.00611337, -0.09257562,\n",
              "        -0.08166263, -0.02819872, -0.02284981,  0.02060917, -0.03793339,\n",
              "        -0.08936291, -0.03693555, -0.0666976 , -0.05627843, -0.06418184,\n",
              "         0.0019682 , -0.02988685, -0.0632311 ,  0.00160372, -0.00940208,\n",
              "         0.04548296, -0.00763449,  0.03740029,  0.01671419, -0.03817296,\n",
              "        -0.02066651, -0.04183361, -0.07900421, -0.04369391, -0.03464317,\n",
              "        -0.04805803, -0.06548638, -0.05004379, -0.03272003,  0.06933393,\n",
              "        -0.01168599,  0.02894211,  0.05495509, -0.03002485, -0.0394317 ,\n",
              "        -0.11059321, -0.07546007, -0.02829695, -0.03118681,  0.03203379,\n",
              "        -0.09340966,  0.04892164, -0.01875372, -0.0305429 , -0.02592846,\n",
              "        -0.07777593, -0.10301681,  0.00227052,  0.02757466, -0.05260109,\n",
              "         0.01618833, -0.03897548, -0.09404764, -0.04895126, -0.04499789,\n",
              "         0.0308111 , -0.02498627, -0.0605332 , -0.0959662 ,  0.0183253 ,\n",
              "        -0.06158114,  0.04605727, -0.05851018,  0.01419039, -0.01704383,\n",
              "        -0.06296065, -0.00047023, -0.02886608, -0.05818117,  0.00982705,\n",
              "        -0.02509194, -0.02631478, -0.00062117, -0.09288233, -0.09186492,\n",
              "        -0.10172009,  0.01292739, -0.08316068, -0.08731743, -0.05422974,\n",
              "        -0.03230062, -0.02725783, -0.08235507, -0.01057108, -0.03635204,\n",
              "        -0.11815357, -0.10586695,  0.00435954, -0.00659303,  0.0502387 ,\n",
              "         0.00878213, -0.06401836, -0.07357968, -0.01913781, -0.04711354,\n",
              "        -0.01055162, -0.00484537, -0.03251093, -0.10398785, -0.04526684,\n",
              "        -0.09643672, -0.0244786 , -0.04590201, -0.02674606, -0.14399068,\n",
              "         0.0130748 ,  0.00984734, -0.02956479, -0.06344534,  0.00144915,\n",
              "        -0.0143642 , -0.14442651, -0.10419644,  0.05167769, -0.06629355,\n",
              "        -0.01097386, -0.08433321, -0.08270703, -0.04685385, -0.0858218 ,\n",
              "        -0.04068561, -0.00782118,  0.04255984, -0.05947831,  0.03109751,\n",
              "        -0.06132762, -0.06928886,  0.01016224, -0.00492892, -0.1365665 ,\n",
              "         0.0023613 , -0.04091693, -0.04525955, -0.05591951, -0.05740917,\n",
              "        -0.07355878,  0.04626185, -0.06808205, -0.0062206 , -0.13388397,\n",
              "        -0.05724851,  0.01007124, -0.07574326, -0.08933561, -0.03400878,\n",
              "         0.00996763, -0.00704999, -0.08264605,  0.12639396, -0.00998795,\n",
              "        -0.03632103, -0.08846514, -0.06585092, -0.00254844,  0.02369609,\n",
              "        -0.11800342,  0.03975085, -0.04946142,  0.04675196, -0.06192682,\n",
              "        -0.03886244, -0.06695367, -0.05861804, -0.07819233, -0.00817054,\n",
              "        -0.03089676,  0.01278375, -0.0306603 , -0.14784817, -0.03933045,\n",
              "         0.00186478, -0.04355744, -0.11099529, -0.04708336, -0.11064741,\n",
              "        -0.02342595, -0.07777563, -0.00769368, -0.04053457, -0.07130107,\n",
              "        -0.0732763 ,  0.03946273,  0.00041463, -0.06060481, -0.05560305,\n",
              "        -0.08656234,  0.05711198,  0.0013616 , -0.07266035, -0.04121469,\n",
              "        -0.05169481,  0.01039199,  0.00057156,  0.00050841, -0.06667892,\n",
              "        -0.06660612, -0.02081614,  0.04334349, -0.08772814, -0.06983642,\n",
              "         0.01883143,  0.00815514, -0.02533274, -0.09832563,  0.01607548,\n",
              "         0.01321872, -0.05399479, -0.06810715, -0.01898036, -0.04200494,\n",
              "        -0.02629218, -0.02554399, -0.09182111, -0.02290172, -0.0319678 ,\n",
              "         0.00734082, -0.063696  , -0.10572266, -0.08236008,  0.0254914 ,\n",
              "        -0.02436328, -0.04996008, -0.04979169,  0.01892179, -0.03452678,\n",
              "        -0.0290949 ,  0.00117708, -0.06042415, -0.05175975, -0.07615554,\n",
              "         0.01575389, -0.00027287, -0.0623741 , -0.02251922,  0.04404397,\n",
              "        -0.06538405, -0.04296473,  0.0122528 , -0.00620948, -0.05607916,\n",
              "        -0.06807527,  0.01056228, -0.02965207,  0.07206034,  0.05214801,\n",
              "         0.00620778, -0.01251963, -0.00176755, -0.0098872 , -0.04873997,\n",
              "        -0.03689997, -0.05329178, -0.08287872,  0.03127107, -0.05318705,\n",
              "        -0.04739545, -0.02758499, -0.06859461,  0.00921786, -0.03217072,\n",
              "        -0.0324019 ,  0.00784618, -0.08019423, -0.01795924,  0.03467405,\n",
              "         0.05182461, -0.01001515,  0.02067754,  0.00556114, -0.01543228,\n",
              "         0.00610353,  0.03203543,  0.06050774, -0.06608547, -0.11001178,\n",
              "        -0.0335427 , -0.09578425, -0.05574661, -0.08495343, -0.06110368,\n",
              "        -0.07873472, -0.03482726, -0.03478772,  0.03587567, -0.05821708,\n",
              "        -0.06088175, -0.03415451,  0.07126103, -0.02874376,  0.03081666,\n",
              "        -0.08471722, -0.02831033, -0.04273064, -0.01604259, -0.08106627,\n",
              "        -0.01927577, -0.09244354,  0.01298942, -0.00781568, -0.01830759,\n",
              "         0.03444569,  0.05322833, -0.0354484 , -0.03159862, -0.06773893,\n",
              "        -0.00637043,  0.12975836, -0.03910229, -0.0268327 , -0.02460893,\n",
              "        -0.03006489, -0.05162786, -0.04071101, -0.0907817 ,  0.00187238,\n",
              "        -0.06785648, -0.05696737,  0.01799551,  0.03526703, -0.02177716,\n",
              "         0.01576957, -0.07171293, -0.04275634, -0.04412855,  0.05865536,\n",
              "        -0.00492019, -0.03822918,  0.00207746, -0.0236938 ,  0.012518  ,\n",
              "         0.01853951, -0.06239551,  0.0122598 , -0.01409229, -0.04250017,\n",
              "        -0.025319  , -0.04725681, -0.05683038,  0.00699248, -0.05249372,\n",
              "        -0.07114886, -0.02129644, -0.03036244, -0.08104182, -0.0485801 ,\n",
              "        -0.06161469, -0.04198878, -0.01386488, -0.02809845, -0.03348646,\n",
              "        -0.0006183 , -0.07375327, -0.01426557,  0.06787791, -0.11941388,\n",
              "         0.05576919, -0.02204373,  0.02893707, -0.01097833, -0.0608866 ,\n",
              "         0.06340922, -0.04693357, -0.13399859, -0.09071895, -0.09010625,\n",
              "        -0.10107633,  0.06540763, -0.03460333, -0.05016326, -0.05798169,\n",
              "        -0.06571148, -0.07123869, -0.05538719, -0.04643584, -0.08490657,\n",
              "         0.06296494,  0.01956002, -0.08602013, -0.01046423, -0.04514096,\n",
              "         0.05136618, -0.02194833, -0.07702577, -0.04479466,  0.04805826,\n",
              "        -0.04562842,  0.01867451,  0.00484941, -0.02787889, -0.09513769,\n",
              "        -0.01433122, -0.0440216 , -0.05143383, -0.04964886,  0.01449687,\n",
              "        -0.08567215,  0.00577825, -0.04798528, -0.02655823, -0.02873414,\n",
              "        -0.05565455, -0.00253934, -0.00827208, -0.06515397,  0.00331282,\n",
              "        -0.04438583, -0.02647631, -0.04753978, -0.09773433, -0.01224464,\n",
              "        -0.09596038, -0.07972552,  0.01973965, -0.0284665 , -0.03535028,\n",
              "        -0.06893143, -0.07576463, -0.05652155, -0.03093876,  0.02909062,\n",
              "        -0.01248327,  0.10246981, -0.01798452,  0.07961995, -0.10103854,\n",
              "        -0.0276527 , -0.08007903, -0.1113508 , -0.06836098,  0.03653733,\n",
              "        -0.02855735, -0.08482763, -0.01620592,  0.00967921, -0.02594887,\n",
              "        -0.08167882,  0.02900133, -0.0353349 , -0.03963194, -0.00595054,\n",
              "        -0.10306275,  0.00230161, -0.10556774, -0.0587837 , -0.08721724,\n",
              "        -0.0245893 , -0.02381269,  0.04017981, -0.0454746 , -0.02192181,\n",
              "        -0.08909518, -0.02361565,  0.02414603, -0.03709088, -0.08165372,\n",
              "        -0.04343881, -0.05812759,  0.05791969, -0.12017058, -0.05340987,\n",
              "        -0.00941176, -0.02578967,  0.03021242,  0.00919873, -0.034585  ,\n",
              "        -0.00862768,  0.00602742, -0.01845439, -0.04660477,  0.07580746,\n",
              "         0.0336202 , -0.1357724 ], dtype=float32),\n",
              " array([[ 2.0359600e-02,  1.7979163e-01,  1.1579257e-01, ...,\n",
              "          1.4855348e-01, -9.9837072e-02,  7.1766146e-05],\n",
              "        [-2.5977260e-01,  9.0082534e-02,  1.6437127e-01, ...,\n",
              "          1.1166057e-01,  1.0542132e-01, -7.7799611e-02],\n",
              "        [-5.0555337e-02,  2.4121112e-01,  6.8466589e-02, ...,\n",
              "          5.9248760e-02,  1.4695564e-01,  7.9399951e-02],\n",
              "        ...,\n",
              "        [-3.8775405e-01, -3.8435766e-01,  1.5619603e-01, ...,\n",
              "         -3.3861509e-01, -2.6354200e-01, -1.9622741e-02],\n",
              "        [ 2.4725954e-01, -1.6596633e-01, -7.7209547e-02, ...,\n",
              "         -1.1787559e-01, -2.0964842e-01,  2.3266503e-01],\n",
              "        [ 7.0033200e-02,  1.5992127e-01,  1.6396089e-02, ...,\n",
              "          4.1041009e-02, -1.9546308e-02, -1.5419156e-02]], dtype=float32),\n",
              " array([ 8.11192021e-02,  1.29814208e-01, -9.74528268e-02,  9.05981138e-02,\n",
              "         8.28823596e-02,  2.40397543e-01, -2.19035875e-02,  8.30660388e-02,\n",
              "         1.15544967e-01,  1.01604745e-01, -4.39402973e-03, -9.29972157e-02,\n",
              "        -1.25451177e-01,  1.23951495e-01,  1.05424114e-01, -8.26299191e-04,\n",
              "         9.25564095e-02, -9.72063318e-02,  5.93957789e-02,  8.47124010e-02,\n",
              "        -3.51791270e-02,  4.05362137e-02, -1.37082413e-01, -1.59562081e-01,\n",
              "        -1.48798572e-02, -5.33045717e-02, -1.00628108e-01, -1.21729501e-01,\n",
              "        -7.43025392e-02, -6.19854266e-03, -4.88769375e-02, -2.11042240e-02,\n",
              "        -1.76993296e-01, -1.26003325e-01, -2.35384461e-02,  1.62178814e-01,\n",
              "         7.09055141e-02, -1.21958926e-01,  1.37365714e-01, -1.25723451e-01,\n",
              "         1.56970203e-01, -4.55034673e-02,  1.05935261e-01, -8.47560614e-02,\n",
              "        -1.64566338e-01, -1.98098943e-01,  5.72274905e-03, -1.45459920e-01,\n",
              "         6.94320649e-02,  8.73922780e-02,  9.77048874e-02,  5.17577454e-02,\n",
              "        -1.41218588e-01,  8.51863921e-02,  1.15103327e-01, -2.99790204e-02,\n",
              "        -1.80548280e-01, -2.25196425e-02, -5.68847880e-02, -1.06579043e-01,\n",
              "        -8.82511362e-02, -5.37917279e-02,  7.74079375e-03,  4.85502630e-02,\n",
              "        -2.08927810e-01, -1.28602274e-02, -7.94291273e-02,  1.03270568e-01,\n",
              "         7.71471187e-02, -4.18359786e-02,  2.70224456e-02, -4.69025075e-02,\n",
              "         1.69284731e-01, -1.63319632e-01, -5.61547913e-02,  4.76434715e-02,\n",
              "        -1.13536693e-01, -4.39247563e-02, -1.03562012e-01, -7.13689774e-02,\n",
              "         1.10601157e-01,  2.20402125e-02, -1.63116440e-01, -5.00399731e-02,\n",
              "        -4.78421384e-03,  1.18726455e-01,  1.81841984e-01, -5.92018217e-02,\n",
              "         1.03558742e-01, -1.20317124e-01, -4.94935997e-02, -2.12099388e-01,\n",
              "         1.31142691e-01, -2.28482541e-02,  5.97908609e-02, -1.18181854e-02,\n",
              "        -2.27008969e-01, -1.45830184e-01, -2.25994196e-02, -9.81205180e-02,\n",
              "        -6.56381771e-02,  1.10688619e-02,  1.01735182e-01, -1.14082895e-01,\n",
              "        -5.10583632e-02,  8.39136466e-02, -5.01581505e-02, -5.09440526e-02,\n",
              "         7.87369162e-02, -2.18478724e-01,  3.63214985e-02, -5.78293018e-02,\n",
              "        -1.26354948e-01,  1.15458801e-01, -7.81133026e-02,  3.36780399e-02,\n",
              "         1.68705076e-01,  8.64676759e-03, -7.96475410e-02,  8.10869411e-02,\n",
              "        -1.61106616e-01, -8.08254704e-02,  1.23983119e-02, -3.22618820e-02,\n",
              "        -3.16855013e-02, -3.30881253e-02,  1.35126129e-01, -1.07599251e-01,\n",
              "         5.41192032e-02, -6.10087216e-02,  1.09736927e-01,  1.99298635e-01,\n",
              "         1.58153027e-02,  1.58464275e-02, -3.97357419e-02,  1.62425771e-01,\n",
              "         8.61301273e-02, -5.66542111e-02,  9.36418101e-02, -2.31147297e-02,\n",
              "        -1.04972057e-01, -8.89505148e-02, -1.21996470e-01, -8.90686363e-02,\n",
              "         6.44175038e-02, -8.38680342e-02, -1.08406931e-01,  1.00964168e-02,\n",
              "         6.97320029e-02, -9.49247554e-02,  1.58067301e-01,  1.64076045e-01,\n",
              "        -6.27980605e-02, -2.23045141e-01, -3.07690874e-02, -2.38423273e-02,\n",
              "        -1.76873766e-02,  1.03307426e-01, -4.90568876e-02, -9.01285335e-02,\n",
              "        -9.96186435e-02,  1.73909247e-01,  1.59988672e-01, -1.92563415e-01,\n",
              "        -4.09424379e-02, -1.95379153e-01,  1.29295513e-01, -1.55557677e-01,\n",
              "         1.00491591e-01, -1.28713891e-01,  6.85059205e-02,  1.10697389e-01,\n",
              "         2.04921588e-01, -9.64877456e-02,  8.71486515e-02, -8.47734138e-02,\n",
              "         1.36781543e-01,  2.28604190e-02,  5.91544658e-02,  3.16166915e-02,\n",
              "         1.10146463e-01, -1.32319525e-01, -4.14332561e-02,  9.20440163e-03,\n",
              "        -3.59305404e-02, -6.51786849e-02,  1.28192037e-01,  1.86115041e-01,\n",
              "        -1.19092301e-01, -7.99466148e-02,  9.66823753e-03, -5.24362475e-02,\n",
              "         2.50829577e-01, -1.18676107e-02, -1.82132542e-01,  6.56826124e-02,\n",
              "        -6.65944964e-02,  9.13300812e-02, -1.16949759e-01, -4.18105535e-02,\n",
              "         1.55763105e-01, -1.68500647e-01, -1.09955318e-01, -1.09865233e-01,\n",
              "         1.32428959e-01, -5.80718927e-02, -1.05382822e-01, -5.95157631e-02,\n",
              "        -3.55354585e-02,  2.60825716e-02, -1.37983814e-01, -8.14267918e-02,\n",
              "        -4.58781086e-02, -1.56605944e-01, -6.08225353e-02,  4.88820188e-02,\n",
              "        -4.51759398e-02,  1.15925133e-01, -5.48597611e-02, -1.45987406e-01,\n",
              "         1.46532804e-01, -2.08892599e-02,  5.60504720e-02, -3.17656174e-02,\n",
              "        -1.15472101e-01, -1.62419267e-02, -6.08854927e-02,  1.47064433e-01,\n",
              "        -6.15518540e-02, -2.48843715e-01,  5.54678310e-03, -3.87385786e-02,\n",
              "         1.96482524e-01,  1.31144404e-01, -7.56300427e-03,  6.60853088e-02,\n",
              "        -4.47273999e-02, -1.12802200e-01, -9.84395966e-02,  5.89913987e-02,\n",
              "         2.75427014e-01, -6.60017803e-02,  1.30463421e-01,  1.65843274e-02,\n",
              "         2.09198207e-01,  1.46664515e-01,  6.44985437e-02, -1.18352570e-01,\n",
              "        -1.24522373e-01,  1.63105130e-02, -1.42632067e-01, -1.01516172e-01,\n",
              "        -1.52803585e-01,  1.49318846e-02, -9.80396196e-02, -7.13046715e-02,\n",
              "        -1.76456437e-01, -1.96560919e-01, -6.93671480e-02,  5.50831743e-02,\n",
              "        -7.02182874e-02,  2.89088488e-02,  2.07440555e-01,  1.42451808e-01,\n",
              "         1.54122293e-01, -6.66523650e-02, -4.55129519e-02,  2.34120294e-01,\n",
              "        -7.44407997e-02, -1.23485766e-01,  1.44138038e-01,  2.55488157e-01,\n",
              "        -1.27200022e-01, -2.01351363e-02,  1.23384111e-01,  8.47430751e-02,\n",
              "         2.57162675e-02,  1.11919999e-01,  2.06802413e-01, -2.02588350e-01,\n",
              "        -1.67190626e-01,  1.09190792e-01, -8.06022808e-02,  1.98227316e-01,\n",
              "        -7.35847745e-03, -1.84413381e-02, -1.85417256e-03,  5.58905862e-02,\n",
              "        -7.81385005e-02, -5.63912131e-02,  3.04143056e-02, -9.00489464e-03,\n",
              "        -1.92838982e-01,  1.31131161e-03,  2.11031035e-01,  3.19082057e-03,\n",
              "        -1.97565377e-01, -9.17302519e-02, -1.89541653e-01,  1.65571988e-01,\n",
              "        -6.73633665e-02,  1.26055062e-01,  1.01838075e-01,  1.23143174e-01,\n",
              "        -1.00964092e-01,  3.96961682e-02,  2.22214490e-01, -2.03265366e-03,\n",
              "         1.61608066e-02, -5.28627783e-02,  7.54624605e-02, -4.48556431e-02,\n",
              "        -4.93444912e-02, -4.75253575e-02, -6.41311705e-02,  7.75358304e-02,\n",
              "        -1.25338376e-01,  1.17041329e-02, -1.04842022e-01, -1.38383597e-01,\n",
              "        -5.64226843e-02, -1.81325544e-02, -2.08588570e-01,  8.28192681e-02,\n",
              "         1.34712502e-01, -1.32404909e-01,  4.66878340e-02,  1.92600816e-01,\n",
              "         3.31003107e-02, -1.35752767e-01,  1.13954447e-01, -1.57392919e-01,\n",
              "        -2.25937925e-02, -4.03587930e-02, -6.34624660e-02, -1.22719802e-01,\n",
              "        -4.99105528e-02,  4.55676280e-02,  1.11570053e-01,  1.73882484e-01,\n",
              "        -1.64578129e-02,  7.71997422e-02, -2.03825679e-04,  4.13916307e-03,\n",
              "         3.28552388e-02, -1.93616748e-01,  3.85064930e-02,  4.59926873e-02,\n",
              "         2.40482464e-02, -3.31203565e-02, -1.48513904e-02, -4.30969335e-02,\n",
              "        -2.22913101e-01, -1.26851499e-01, -1.81962669e-01,  7.57433921e-02,\n",
              "        -1.15022123e-01,  1.29224151e-01, -5.51528074e-02,  1.22884318e-01,\n",
              "        -1.48937240e-01, -6.74901828e-02,  1.05828315e-01, -3.94864976e-02,\n",
              "         1.24904230e-01,  6.79117963e-02, -8.09970498e-02,  1.92893326e-01,\n",
              "        -9.66165066e-02,  1.57358736e-01, -1.47707790e-01,  7.78974071e-02,\n",
              "        -9.15985033e-02, -1.39414277e-02,  3.68435569e-02, -2.22598478e-01,\n",
              "         2.12515611e-02,  2.43248686e-01, -1.39661744e-01,  1.76933780e-02,\n",
              "        -8.40574205e-02,  3.48222926e-02,  3.87164988e-02, -6.71429485e-02,\n",
              "        -1.22715719e-01, -5.14543653e-02,  3.90732288e-02,  9.27046593e-03,\n",
              "        -6.04237691e-02,  6.38096258e-02,  3.87985967e-02, -1.96928978e-02,\n",
              "         4.47242856e-02, -1.12191290e-01,  2.00476512e-01, -1.06037192e-01,\n",
              "         1.88577071e-01, -1.01319086e-02,  5.56140812e-03,  8.56473222e-02,\n",
              "         2.89485734e-02, -1.89396188e-01,  1.70350805e-01,  1.62158519e-01,\n",
              "        -1.67010486e-01, -9.50353518e-02,  1.50936708e-01,  3.44888233e-02,\n",
              "         2.16670051e-01, -8.34451988e-02, -6.31933883e-02, -1.14725351e-01,\n",
              "        -1.25094801e-02,  3.08268424e-02, -1.34613395e-01, -2.89019721e-04,\n",
              "        -2.32898798e-02,  9.64520313e-03,  7.31482208e-02,  7.85888359e-02,\n",
              "        -8.90513510e-02, -1.22302584e-01,  2.31275141e-01,  9.45378542e-02,\n",
              "        -7.94739090e-03, -1.32247493e-01, -4.48995121e-02, -1.03062596e-02,\n",
              "         1.63709670e-01, -7.32542109e-03,  7.70475864e-02,  8.63004476e-02,\n",
              "         5.06217964e-02, -9.27237943e-02,  2.29388371e-01, -1.24812856e-01,\n",
              "         2.42935717e-01, -4.92347851e-02,  4.75288071e-02, -8.41788948e-02,\n",
              "         4.25961986e-02, -1.05413785e-02,  8.14069137e-02, -2.33068317e-02,\n",
              "         1.59335330e-01, -3.66561040e-02,  8.81085843e-02, -7.14432448e-02,\n",
              "        -1.02122970e-01, -1.26494229e-01, -4.94253449e-02,  2.03807354e-02,\n",
              "         2.31354222e-01,  8.79959241e-02, -5.63869737e-02, -8.64201561e-02,\n",
              "        -3.68844680e-02, -8.76977853e-03,  2.34857976e-01,  4.43750843e-02,\n",
              "         1.30358636e-01, -3.30605283e-02,  1.06601715e-01, -1.49479330e-01,\n",
              "         2.86052451e-02, -1.19057901e-01,  3.56129073e-02,  1.28002331e-01,\n",
              "        -3.19924206e-02, -4.46354076e-02, -1.84361592e-01, -1.25934809e-01,\n",
              "        -1.42207414e-01,  7.16165751e-02,  9.65403765e-03, -7.09856451e-02,\n",
              "        -5.36584146e-02,  2.57786870e-01,  1.77223116e-01, -9.92065892e-02,\n",
              "         4.72158082e-02, -8.15546736e-02,  1.12277776e-01,  1.13892145e-01,\n",
              "        -5.24841510e-02, -6.00471497e-02,  1.42559826e-01, -1.48290440e-01,\n",
              "        -5.17072752e-02, -5.12181185e-02, -7.81907438e-05,  2.39484176e-01,\n",
              "        -5.58259934e-02, -4.24045920e-02, -2.18062545e-03, -4.82270271e-02,\n",
              "        -1.55106997e-02,  4.94742347e-03,  1.08872026e-01,  1.22241013e-01,\n",
              "        -1.21186571e-02,  1.04576699e-01,  6.56747371e-02,  2.63018832e-02,\n",
              "        -1.80751681e-01,  1.06628373e-01,  1.48016158e-02, -9.05871615e-02,\n",
              "        -3.35908644e-02,  6.28747120e-02,  1.06779940e-01,  1.83876902e-01],\n",
              "       dtype=float32),\n",
              " array([[ 0.21666023, -0.2686991 ,  0.23859945, ..., -0.19462827,\n",
              "         -0.47017288,  0.01533323],\n",
              "        [ 0.22379836,  0.19218118, -0.12554048, ..., -0.09522774,\n",
              "          0.10066951, -0.38880736],\n",
              "        [-0.03809936,  0.11376384, -0.19879453, ...,  0.13377547,\n",
              "         -0.21806858, -0.25450557],\n",
              "        ...,\n",
              "        [ 0.24117266,  0.05734631, -0.08889318, ..., -0.18941344,\n",
              "         -0.01895411,  0.05920531],\n",
              "        [-0.20782973,  0.09597271, -0.17998222, ..., -0.06362621,\n",
              "          0.16122589,  0.02751232],\n",
              "        [-0.11993303, -0.18989587,  0.14162175, ...,  0.07594717,\n",
              "          0.15555356, -0.28641137]], dtype=float32),\n",
              " array([ 0.08440784, -0.10700105, -0.04823516, -0.02936251, -0.02913897,\n",
              "        -0.07866009, -0.11718232, -0.14476661,  0.2664623 ,  0.10061232],\n",
              "       dtype=float32)]"
            ]
          },
          "metadata": {
            "tags": []
          },
          "execution_count": 60
        }
      ]
    },
    {
      "cell_type": "code",
      "metadata": {
        "id": "Y_pCfahBU3X6",
        "colab_type": "code",
        "colab": {
          "base_uri": "https://localhost:8080/",
          "height": 34
        },
        "outputId": "ef3dfa8f-5f0e-48e0-edd2-0b45682919d9"
      },
      "source": [
        "loss , accuracy = model.evaluate(x_test , y_test)"
      ],
      "execution_count": 61,
      "outputs": [
        {
          "output_type": "stream",
          "text": [
            "313/313 [==============================] - 1s 2ms/step - loss: 1.4916 - sparse_categorical_accuracy: 0.9696\n"
          ],
          "name": "stdout"
        }
      ]
    },
    {
      "cell_type": "code",
      "metadata": {
        "id": "rmltx7rOU8Iq",
        "colab_type": "code",
        "colab": {
          "base_uri": "https://localhost:8080/",
          "height": 34
        },
        "outputId": "a8ed0d8a-8b18-45b5-9887-b03b49da3b2f"
      },
      "source": [
        "print(accuracy)"
      ],
      "execution_count": 62,
      "outputs": [
        {
          "output_type": "stream",
          "text": [
            "0.9696000218391418\n"
          ],
          "name": "stdout"
        }
      ]
    },
    {
      "cell_type": "code",
      "metadata": {
        "id": "0dcCTMReU_3w",
        "colab_type": "code",
        "colab": {
          "base_uri": "https://localhost:8080/",
          "height": 34
        },
        "outputId": "05bb35c4-64b4-4049-cee7-8ccb53181bc9"
      },
      "source": [
        "print(loss)"
      ],
      "execution_count": 63,
      "outputs": [
        {
          "output_type": "stream",
          "text": [
            "1.4915637969970703\n"
          ],
          "name": "stdout"
        }
      ]
    },
    {
      "cell_type": "code",
      "metadata": {
        "id": "AwrcqWcaVDCV",
        "colab_type": "code",
        "colab": {}
      },
      "source": [
        "model.save('model_digits.h5')"
      ],
      "execution_count": 64,
      "outputs": []
    }
  ]
}